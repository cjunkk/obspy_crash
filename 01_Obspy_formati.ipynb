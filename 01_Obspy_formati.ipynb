{
 "cells": [
  {
   "cell_type": "markdown",
   "metadata": {},
   "source": [
    "![](images/obspy_logo_full_524x179px.png)"
   ]
  },
  {
   "cell_type": "markdown",
   "metadata": {},
   "source": [
    "<div style=\"font-size: xx-large ; font-weight: 900 ; color: rgba(0 , 0 , 0 , 0.9) ; line-height: 100%\">Breve guida a ObsPy: Python per la sismologia</div>\n"
   ]
  },
  {
   "cell_type": "markdown",
   "metadata": {},
   "source": [
    "Questa guida trae spunto dal Tutorial di:\n",
    "\n",
    "* Lion Krischer ([@krischer](https://github.com/krischer))\n",
    "* Tobias Megies ([@megies](https://github.com/megies))\n",
    "\n",
    "Seismo-Live: http://seismo-live.org\n",
    "\n",
    "---"
   ]
  },
  {
   "cell_type": "markdown",
   "metadata": {},
   "source": [
    "**Questa guida si propone di illustrare le funzioni e le classi di ObsPy**"
   ]
  },
  {
   "cell_type": "markdown",
   "metadata": {},
   "source": [
    "In sismologia possiamo distinguere 3 tipi fondamentali di dati e ciascuno di essi viene letto da una funzione in ObsPy:\n",
    "* `obspy.read()`: legge le forme d'onda dagli oggetti `obspy.Stream` e `obspy.Trace`.\n",
    "* `obspy.read_inventory()`: legge le informazioni sulle stazioni dagli oggetti `obspy.Inventory`.\n",
    "* `obspy.read_events()`: legge gli eventi dagli oggetti `obspy.Catalog`.\n",
    "\n",
    "Il formato specifico di ciascuno di questi tipi di dato viene determinato automaticamente da ObsPy, ciascuna funzione supporta la lettura da URL, vari formati di compressione, file in memoria e altre fonti. Molti formati di file sono disponibili anche in scrittura. Gli oggetti risultanti consentono la manipolazione dei dati in vari modi.\n",
    "\n",
    "Uno degli obiettivi principali di ObsPy è quello di evitare che i ricercatori si debbano preoccupare del formato in cui i loro dati sono scritti per concentrarsi esclusivamente sul compito da svolgere."
   ]
  },
  {
   "cell_type": "code",
   "execution_count": null,
   "metadata": {},
   "outputs": [],
   "source": [
    "%matplotlib inline\n",
    "from __future__ import print_function\n",
    "import matplotlib.pyplot as plt\n",
    "plt.style.use('ggplot')\n",
    "plt.rcParams['figure.figsize'] = 16, 8"
   ]
  },
  {
   "cell_type": "markdown",
   "metadata": {},
   "source": [
    "## FDSN/SEED Identificatori\n",
    "\n",
    "In accordo allo [standard SEED](http://www.fdsn.org/media/_s/publications/SEEDManual_V2.4.pdf), la nomenclatura che segue viene usata per identificare le stazioni sismiche:\n",
    "\n",
    "* **Network identifier**: Identifica la rete/proprietà dei dati. È assegnata dalla FDSN ed è quindi unica.\n",
    "* **Station identifier**: Identifica la stazione all'interno della rete. *NON È UNICA. Va sempre usata insieme al codice della rete!*\n",
    "* **Location identifer**: Identifica differenti stream di dati per la stessa stazione. Normalmente usato per separare più strumenti alla stessa stazione.\n",
    "* **Channel identifier**: Identificatore dei canali. Abbiamo tre codici per i canali: 1) Banda e frequenza di campionamento approssimativa, 2) Il tipo di strumento, 3) L'orientazione\n",
    "\n",
    "A questo punto abbiamo l'identificazione completa del modulo **NET.STA.LOC.CHA**, ad es. **IV.PII.00.BHZ.** *Rete IV (INGV), Stazione PII (Pisa), Location 00, Canale B (broad band) H (High Gain Seismometer) Z (componente verticale)*\n",
    "\n",
    "\n",
    "---\n",
    "\n",
    "In sismologia generalmente facciamo distinzione tra 3 diversi tipi di dato:\n",
    "\n",
    "1. **Waveform Data** - Dati delle forme d'onda come serie temporali.\n",
    "2. **Station Data** - Informazioni sulle stazioni, coordinate geografiche, risposta dello strumento.\n",
    "3. **Event Data** - Informazioni sui terremoti ed altre sorgenti sismiche.\n"
   ]
  },
  {
   "cell_type": "markdown",
   "metadata": {},
   "source": [
    "## Waveform Data\n",
    "\n",
    "![stream](images/Stream_Trace.svg)\n",
    "\n",
    "Esistono una miriade di formati di dati delle forme d'onda, ma in Europa e negli Stati Uniti dominano due formati: **MiniSEED** e **SAC**. Qui vedremo solo i **MiniSEED**\n",
    "\n",
    "\n",
    "### MiniSEED\n",
    "\n",
    "* È ciò che ottieni dai datacenter e solitamente anche ciò che memorizzano, si tratta dei dati originali.\n",
    "* Molto utile come formato di streaming e archiviazione.\n",
    "* È possibile memorizzare interi e float in singola/doppia precisione. \n",
    "* I dati interi (ad esempio i count da un digitalizzatore) sono fortemente compressi: un fattore di 3-5 a seconda dei dati.\n",
    "* Può gestire gap e sovrapposizioni.\n",
    "* Più componenti per ciascun file.\n",
    "* Contiene solo i parametri veramente necessari e alcune informazioni per gli gestori di rete e i fornitori di dati."
   ]
  },
  {
   "cell_type": "code",
   "execution_count": null,
   "metadata": {},
   "outputs": [],
   "source": [
    "# Per usare ObsPy come prima cosa bisogna sempre importarlo\n",
    "import obspy\n",
    "\n",
    "# ObsPy individua SEMPRE il formato del file\n",
    "# (indipendentemente dal formato dei dati) restituisce l'oggetto Stream.\n",
    "st = obspy.read(\"INGV/PieveTorina.mseed\")\n",
    "\n",
    "# Stampare un oggetto di solito si traduce in qualche tipo di\n",
    "# stringa informativa.\n",
    "print(st)"
   ]
  },
  {
   "cell_type": "code",
   "execution_count": null,
   "metadata": {},
   "outputs": [],
   "source": [
    "# Le informazioni contenute nella prima traccia vengono \n",
    "# visualizzate con il seguente comando (.stats è un attributo)\n",
    "print(st[0].stats)"
   ]
  },
  {
   "cell_type": "code",
   "execution_count": null,
   "metadata": {},
   "outputs": [],
   "source": [
    "# Usa il metodo .plot() per una rapida visualizzazione \n",
    "# del contenuto dello stream.\n",
    "st.plot()"
   ]
  },
  {
   "cell_type": "code",
   "execution_count": null,
   "metadata": {},
   "outputs": [],
   "source": [
    "# Qui vedremo brevemente come lavorare con gli oggetti Stream/Trace.\n",
    "\n",
    "# La maggior parte delle operazioni modifica gli oggetti esistenti. \n",
    "# Questo viene fatto per motivi di prestazioni.\n",
    "\n",
    "# Creiamo quindi una copia dello stream in modo che le esecuzioni multiple di questa cella di notebook \n",
    "# non vadano a modificare i dati originali.\n",
    "st2 = st.copy()\n",
    "\n",
    "# Per usare solo parte dello stream, usare la funzione select(). In questo caso solo la componente Z\n",
    "print(st2.select(component=\"Z\"))\n",
    "\n",
    "# Gli oggetti Stream si comportano come una lista di oggetti Trace. \n",
    "# In questo caso tr è la prima traccia dello stream st2\n",
    "tr = st2[0]\n",
    "\n",
    "# Il plot funziona anche per le singole tracce.\n",
    "tr.plot()\n",
    "\n",
    "# Alcune azioni di processamento dati. Notate che queste operazioni modificano \n",
    "# il file esistente. \n",
    "tr.detrend(\"linear\")\n",
    "tr.taper(type=\"hann\", max_percentage=0.05)\n",
    "tr.filter(\"lowpass\", freq=2.0, corners=4)\n",
    "\n",
    "# Ripetere il Plot.\n",
    "tr.plot()"
   ]
  },
  {
   "cell_type": "code",
   "execution_count": null,
   "metadata": {},
   "outputs": [],
   "source": [
    "# È possibile scrivere il file semplicemente specificando il formato.\n",
    "st.write(\"temp.mseed\", format=\"mseed\")"
   ]
  },
  {
   "cell_type": "markdown",
   "metadata": {},
   "source": [
    "## Station Data\n",
    "\n",
    "![inv](images/Inventory.svg)\n",
    "\n",
    "I dati della stazione contengono informazioni sull'organizzazione che raccoglie i dati, le informazioni geografiche e la risposta dello strumento. Principalmente disponibili in tre formati:\n",
    "\n",
    "* `(dataless)SEED`: formato binario completo ma molto complesso. Ancora usato molto, ad es. per il protocollo Arclink\n",
    "* `RESP`: Un sottoinsieme ristretto di SEED. Basato su ASCII. Contiene **SOLO** la risposta dello strumento. \n",
    "* `StationXML`: Essenzialmente come SEED ma più pulito e basato su XML. È il formato più moderno e ciò che i data center oggi forniscono. **Se puoi usa questo.**\n",
    "\n",
    "\n",
    "ObsPy può lavorare con tutti allo stesso modo, ma in questa guida ci concentreremo su StationXML."
   ]
  },
  {
   "cell_type": "markdown",
   "metadata": {},
   "source": [
    "Questi sono file XML:"
   ]
  },
  {
   "cell_type": "code",
   "execution_count": null,
   "metadata": {},
   "outputs": [],
   "source": [
    "!head INGV/stazioni.xml"
   ]
  },
  {
   "cell_type": "code",
   "execution_count": null,
   "metadata": {},
   "outputs": [],
   "source": [
    "import obspy\n",
    "\n",
    "# Usa la funzione read_inventory per aprirli. Questa funzione\n",
    "# restituirà un oggetti Inventory.\n",
    "inv = obspy.read_inventory(\"INGV/stazioni.xml\")\n",
    "print(inv)"
   ]
  },
  {
   "cell_type": "markdown",
   "metadata": {},
   "source": [
    "Come puoi vedere possono contenere un numero arbitrario di reti, stazioni e canali."
   ]
  },
  {
   "cell_type": "code",
   "execution_count": null,
   "metadata": {},
   "outputs": [],
   "source": [
    "# Con ObsPy è possibile metterli su una mappa.\n",
    "inv.plot(projection=\"local\");"
   ]
  },
  {
   "cell_type": "code",
   "execution_count": null,
   "metadata": {},
   "outputs": [],
   "source": [
    "# È possibile anche estrarre le coordinate dei singoli canali. \n",
    "# Questa funzione accetta anche argomenti datetime per estrarre \n",
    "# informazioni in diversi momenti nel tempo.\n",
    "inv.get_coordinates(\"IV.PII..HHZ\")"
   ]
  },
  {
   "cell_type": "code",
   "execution_count": null,
   "metadata": {},
   "outputs": [],
   "source": [
    "# E naturalmente può essere scritta di nuovo, anche in uno stato modificato.\n",
    "inv.select(channel=\"BHZ\").write(\"temp.xml\", format=\"stationxml\")"
   ]
  },
  {
   "cell_type": "markdown",
   "metadata": {},
   "source": [
    "## Event Data\n",
    "\n",
    "![events](./images/Event.svg)\n",
    "\n",
    "I dati degli eventi sono spesso forniti in formati molto semplici come NDK o il formato CMTSOLUTION utilizzato da molti solutori di forme d'onda:"
   ]
  },
  {
   "cell_type": "code",
   "execution_count": null,
   "metadata": {},
   "outputs": [],
   "source": [
    "!head ./INGV/tirreno_eq.xml"
   ]
  },
  {
   "cell_type": "markdown",
   "metadata": {},
   "source": [
    "Datacenters forniscono file **QuakeML**, che sono sorprendentemente complessi per quanto riguarda la loro struttura ma possono contenere relazioni dettagliate tra parti di dati."
   ]
  },
  {
   "cell_type": "code",
   "execution_count": null,
   "metadata": {},
   "outputs": [],
   "source": [
    "# Leggi i file QuakeML con la funzione read_events().\n",
    "cat = obspy.read_events(\"INGV/tirreno_eq.xml\")\n",
    "print(cat)"
   ]
  },
  {
   "cell_type": "code",
   "execution_count": null,
   "metadata": {},
   "outputs": [],
   "source": [
    "print(cat[0])"
   ]
  },
  {
   "cell_type": "code",
   "execution_count": null,
   "metadata": {},
   "outputs": [],
   "source": [
    "cat.plot(projection=\"ortho\");"
   ]
  },
  {
   "cell_type": "code",
   "execution_count": null,
   "metadata": {},
   "outputs": [],
   "source": [
    "# Ancora ua volta possono essere riscritti con la funzione write().\n",
    "cat.write(\"temp_quake.xml\", format=\"quakeml\")"
   ]
  },
  {
   "cell_type": "markdown",
   "metadata": {},
   "source": [
    "Per mostrare altre cose, ho aggiunto un file contenente tutti gli eventi che l'INGV ha localizzato in un raggio di 50 km intorno a Lucca a partire dal 2010 con magnitudo uguale a 2 o superiore."
   ]
  },
  {
   "cell_type": "code",
   "execution_count": null,
   "metadata": {},
   "outputs": [],
   "source": [
    "import obspy\n",
    "\n",
    "cat = obspy.read_events(\"./INGV/lucca.xml\")\n",
    "\n",
    "print(cat)"
   ]
  },
  {
   "cell_type": "code",
   "execution_count": null,
   "metadata": {},
   "outputs": [],
   "source": [
    "cat.plot(projection=\"local\", resolution=\"i\");"
   ]
  },
  {
   "cell_type": "code",
   "execution_count": null,
   "metadata": {},
   "outputs": [],
   "source": [
    "cat.filter(\"magnitude > 3\").plot(projection=\"local\", resolution=\"i\");"
   ]
  },
  {
   "cell_type": "code",
   "execution_count": null,
   "metadata": {},
   "outputs": [],
   "source": []
  },
  {
   "cell_type": "code",
   "execution_count": null,
   "metadata": {},
   "outputs": [],
   "source": []
  }
 ],
 "metadata": {
  "kernelspec": {
   "display_name": "Python 3",
   "language": "python",
   "name": "python3"
  },
  "language_info": {
   "codemirror_mode": {
    "name": "ipython",
    "version": 3
   },
   "file_extension": ".py",
   "mimetype": "text/x-python",
   "name": "python",
   "nbconvert_exporter": "python",
   "pygments_lexer": "ipython3",
   "version": "3.6.2"
  }
 },
 "nbformat": 4,
 "nbformat_minor": 1
}
