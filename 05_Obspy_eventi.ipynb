{
 "cells": [
  {
   "cell_type": "markdown",
   "metadata": {},
   "source": [
    "![](images/obspy_logo_full_524x179px.png)"
   ]
  },
  {
   "cell_type": "markdown",
   "metadata": {},
   "source": [
    "<div style=\"font-size: xx-large ; font-weight: 900 ; color: rgba(0 , 0 , 0 , 0.9) ; line-height: 100%\">ObsPy: gestione degli eventi</div>"
   ]
  },
  {
   "cell_type": "code",
   "execution_count": null,
   "metadata": {},
   "outputs": [],
   "source": [
    "%matplotlib inline\n",
    "from __future__ import print_function\n",
    "import matplotlib.pyplot as plt\n",
    "plt.style.use('ggplot')\n",
    "plt.rcParams['figure.figsize'] = 12, 8"
   ]
  },
  {
   "cell_type": "markdown",
   "metadata": {},
   "source": [
    "- per i metadati degli eventi, lo standard di-fatto è [QuakeML (un documento con struttura xml)](https://quake.ethz.ch/quakeml/)\n",
    "- i file QuakeML possono essere letti usando **`read_events()`**"
   ]
  },
  {
   "cell_type": "code",
   "execution_count": null,
   "metadata": {},
   "outputs": [],
   "source": [
    "import obspy\n",
    "\n",
    "catalog = obspy.read_events(\"./data/south_napa_with_some_aftershocks.xml\")\n",
    "print(catalog)"
   ]
  },
  {
   "cell_type": "markdown",
   "metadata": {},
   "source": [
    "- la funzione **`read_events()`** restituisce un oggetto **`Catalog`**, che è una collezione di oggetti **`Event`**."
   ]
  },
  {
   "cell_type": "code",
   "execution_count": null,
   "metadata": {},
   "outputs": [],
   "source": [
    "print(type(catalog))\n",
    "print(type(catalog[0]))"
   ]
  },
  {
   "cell_type": "code",
   "execution_count": null,
   "metadata": {},
   "outputs": [],
   "source": [
    "event = catalog[0]\n",
    "print(event)"
   ]
  },
  {
   "cell_type": "markdown",
   "metadata": {},
   "source": [
    "- Oggetti evento sono, alo ro volta, una collezione di altre risorse.\n",
    "- la struttura annidata della classe ObsPy Event (Catalog/Event/Origin/Magnitude/FocalMechanism/ ...) è strettamente modellata su QuakeML\n",
    "<img src=\"images/Event.svg\" width=90%>"
   ]
  },
  {
   "cell_type": "code",
   "execution_count": null,
   "metadata": {},
   "outputs": [],
   "source": [
    "print(type(event.origins))\n",
    "print(type(event.origins[0]))\n",
    "print(event.origins[0])"
   ]
  },
  {
   "cell_type": "code",
   "execution_count": null,
   "metadata": {},
   "outputs": [],
   "source": [
    "print(type(event.magnitudes))\n",
    "print(type(event.magnitudes[0]))\n",
    "print(event.magnitudes[0])"
   ]
  },
  {
   "cell_type": "code",
   "execution_count": null,
   "metadata": {},
   "outputs": [],
   "source": [
    "# prova event.<Tab> per farti un'idea di quali elementi \"figli\" abbia event\n"
   ]
  },
  {
   "cell_type": "markdown",
   "metadata": {},
   "source": [
    "- L'oggetto Catalog contiene alcuni metodi per rendere più facilme lavorare con gli eventi.\n",
    "- per esempio, gli eventi inclusi possono essere filtrati con varie chiavi."
   ]
  },
  {
   "cell_type": "code",
   "execution_count": null,
   "metadata": {},
   "outputs": [],
   "source": [
    "largest_magnitude_events = catalog.filter(\"magnitude >= 4.0\")\n",
    "print(largest_magnitude_events)"
   ]
  },
  {
   "cell_type": "markdown",
   "metadata": {},
   "source": [
    "- è possibile ottenere un grafico di base utilizzando il modulo di base matplotlib."
   ]
  },
  {
   "cell_type": "code",
   "execution_count": null,
   "metadata": {},
   "outputs": [],
   "source": [
    "catalog.plot(projection=\"local\", resolution=\"i\", label=\"magnitude\");"
   ]
  },
  {
   "cell_type": "markdown",
   "metadata": {},
   "source": [
    "- un Catalog (modificato) può essere scritto in un file di output in un numbero differente di formati."
   ]
  },
  {
   "cell_type": "code",
   "execution_count": null,
   "metadata": {},
   "outputs": [],
   "source": [
    "largest_magnitude_events.write(\"/tmp/large_events.xml\", format=\"QUAKEML\")\n",
    "!ls -l /tmp/large_events.xml"
   ]
  },
  {
   "cell_type": "markdown",
   "metadata": {},
   "source": [
    "- le classi di tipo evento possono essere utilizzate per creare eventi/cataloghi/pick/... da zero in flussi di lavoro di elaborazione personalizzata e per condividerle con altri ricercatori nel formato standard QuakeML"
   ]
  },
  {
   "cell_type": "code",
   "execution_count": null,
   "metadata": {},
   "outputs": [],
   "source": []
  }
 ],
 "metadata": {
  "kernelspec": {
   "display_name": "Python 3",
   "language": "python",
   "name": "python3"
  },
  "language_info": {
   "codemirror_mode": {
    "name": "ipython",
    "version": 3
   },
   "file_extension": ".py",
   "mimetype": "text/x-python",
   "name": "python",
   "nbconvert_exporter": "python",
   "pygments_lexer": "ipython3",
   "version": "3.6.2"
  }
 },
 "nbformat": 4,
 "nbformat_minor": 1
}
