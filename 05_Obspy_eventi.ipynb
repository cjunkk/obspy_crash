{
 "cells": [
  {
   "cell_type": "markdown",
   "metadata": {},
   "source": [
    "![](images/obspy_logo_full_524x179px.png)"
   ]
  },
  {
   "cell_type": "markdown",
   "metadata": {},
   "source": [
    "<div style=\"font-size: xx-large ; font-weight: 900 ; color: rgba(0 , 0 , 0 , 0.9) ; line-height: 100%\">ObsPy: gestione dei metadati degli eventi</div>"
   ]
  },
  {
   "cell_type": "code",
   "execution_count": 1,
   "metadata": {},
   "outputs": [],
   "source": [
    "%matplotlib inline\n",
    "from __future__ import print_function\n",
    "import matplotlib.pyplot as plt\n",
    "plt.style.use('ggplot')\n",
    "plt.rcParams['figure.figsize'] = 12, 8"
   ]
  },
  {
   "cell_type": "markdown",
   "metadata": {},
   "source": [
    "- per i metadati degli eventi, lo standard di-fatto è [QuakeML (un documento con struttura xml)](https://quake.ethz.ch/quakeml/)\n",
    "- i file QuakeML possono essere letti usando **`read_events()`**"
   ]
  },
  {
   "cell_type": "code",
   "execution_count": 2,
   "metadata": {},
   "outputs": [
    {
     "name": "stdout",
     "output_type": "stream",
     "text": [
      "5 Event(s) in Catalog:\n",
      "2014-08-24T12:47:12.550000Z | +38.238, -122.343 | 3.6 mw | manual\n",
      "2014-08-24T10:24:44.240000Z | +38.260, -122.337 | 3.51 ml | manual\n",
      "2014-08-24T10:21:45.440000Z | +38.235, -122.320 | 3.81 ml | manual\n",
      "2014-08-24T10:21:10.840000Z | +38.760, -122.726 | 4.38 md | manual\n",
      "2014-08-24T10:20:44.070000Z | +38.215, -122.312 | 6.02 mw | manual\n"
     ]
    }
   ],
   "source": [
    "import obspy\n",
    "\n",
    "catalog = obspy.read_events(\"./data/south_napa_with_some_aftershocks.xml\")\n",
    "print(catalog)"
   ]
  },
  {
   "cell_type": "markdown",
   "metadata": {},
   "source": [
    "- la funzione **`read_events()`** restituisce un oggetto **`Catalog`**, che è una collezione di oggetti **`Event`**."
   ]
  },
  {
   "cell_type": "code",
   "execution_count": 3,
   "metadata": {},
   "outputs": [
    {
     "name": "stdout",
     "output_type": "stream",
     "text": [
      "<class 'obspy.core.event.catalog.Catalog'>\n",
      "<class 'obspy.core.event.event.Event'>\n"
     ]
    }
   ],
   "source": [
    "print(type(catalog))\n",
    "print(type(catalog[0]))"
   ]
  },
  {
   "cell_type": "code",
   "execution_count": 4,
   "metadata": {},
   "outputs": [
    {
     "name": "stdout",
     "output_type": "stream",
     "text": [
      "Event:\t2014-08-24T12:47:12.550000Z | +38.238, -122.343 | 3.6 mw | manual\n",
      "\n",
      "\t            resource_id: ResourceIdentifier(id=\"quakeml:earthquake.usgs.gov/fdsnws/event/1/query?eventid=nc72283201&format=quakeml\")\n",
      "\t             event_type: 'earthquake'\n",
      "\t          creation_info: CreationInfo(agency_id='nc', creation_time=UTCDateTime(2017, 3, 17, 23, 18, 51, 71000), version='9')\n",
      "\t    preferred_origin_id: ResourceIdentifier(id=\"quakeml:earthquake.usgs.gov/archive/product/origin/nc72283201/nc/1486208787950/product.xml\")\n",
      "\t preferred_magnitude_id: ResourceIdentifier(id=\"quakeml:earthquake.usgs.gov/archive/product/origin/nc72283201/nc/1486208787950/product.xml#magnitude\")\n",
      "\t                   ---------\n",
      "\t     event_descriptions: 1 Elements\n",
      "\t                origins: 1 Elements\n",
      "\t             magnitudes: 1 Elements\n"
     ]
    }
   ],
   "source": [
    "event = catalog[0]\n",
    "print(event)"
   ]
  },
  {
   "cell_type": "markdown",
   "metadata": {},
   "source": [
    "- Oggetti evento sono, alo ro volta, una collezione di altre risorse.\n",
    "- la struttura annidata della classe ObsPy Event (Catalog/Event/Origin/Magnitude/FocalMechanism/ ...) è strettamente modellata su QuakeML\n",
    "<img src=\"images/Event.svg\" width=90%>"
   ]
  },
  {
   "cell_type": "code",
   "execution_count": 5,
   "metadata": {},
   "outputs": [
    {
     "name": "stdout",
     "output_type": "stream",
     "text": [
      "<type 'list'>\n",
      "<class 'obspy.core.event.origin.Origin'>\n",
      "Origin\n",
      "\t        resource_id: ResourceIdentifier(id=\"quakeml:earthquake.usgs.gov/archive/product/origin/nc72283201/nc/1486208787950/product.xml\")\n",
      "\t               time: UTCDateTime(2014, 8, 24, 12, 47, 12, 550000)\n",
      "\t          longitude: -122.3425\n",
      "\t           latitude: 38.2383333\n",
      "\t              depth: 8439.0 [uncertainty=190.0]\n",
      "\t            quality: OriginQuality(used_phase_count=302, used_station_count=279, standard_error=0.18, azimuthal_gap=21.0, minimum_distance=0.02432)\n",
      "\t origin_uncertainty: OriginUncertainty(horizontal_uncertainty=90.0, preferred_description='horizontal uncertainty')\n",
      "\t    evaluation_mode: 'manual'\n",
      "\t      creation_info: CreationInfo(agency_id='NC', creation_time=UTCDateTime(2017, 2, 4, 11, 46, 27, 950000), version='9')\n"
     ]
    }
   ],
   "source": [
    "print(type(event.origins))\n",
    "print(type(event.origins[0]))\n",
    "print(event.origins[0])"
   ]
  },
  {
   "cell_type": "code",
   "execution_count": 6,
   "metadata": {},
   "outputs": [
    {
     "name": "stdout",
     "output_type": "stream",
     "text": [
      "<type 'list'>\n",
      "<class 'obspy.core.event.magnitude.Magnitude'>\n",
      "Magnitude\n",
      "\t     resource_id: ResourceIdentifier(id=\"quakeml:earthquake.usgs.gov/archive/product/origin/nc72283201/nc/1486208787950/product.xml#magnitude\")\n",
      "\t             mag: 3.6\n",
      "\t  magnitude_type: 'mw'\n",
      "\t       origin_id: ResourceIdentifier(id=\"quakeml:earthquake.usgs.gov/archive/product/origin/nc72283201/nc/1486208787950/product.xml\")\n",
      "\t   station_count: 3\n",
      "\t evaluation_mode: 'manual'\n",
      "\t   creation_info: CreationInfo(agency_id='NC', creation_time=UTCDateTime(2017, 2, 4, 11, 46, 27, 950000))\n"
     ]
    }
   ],
   "source": [
    "print(type(event.magnitudes))\n",
    "print(type(event.magnitudes[0]))\n",
    "print(event.magnitudes[0])"
   ]
  },
  {
   "cell_type": "code",
   "execution_count": 7,
   "metadata": {},
   "outputs": [],
   "source": [
    "# prova event.<Tab> per farti un'idea di quali elementi \"figli\" abbia event\n"
   ]
  },
  {
   "cell_type": "markdown",
   "metadata": {},
   "source": [
    "- L'oggetto Catalog contiene alcuni metodi per rendere più facilme lavorare con gli eventi.\n",
    "- per esempio, gli eventi inclusi possono essere filtrati con varie chiavi."
   ]
  },
  {
   "cell_type": "code",
   "execution_count": 8,
   "metadata": {},
   "outputs": [
    {
     "name": "stdout",
     "output_type": "stream",
     "text": [
      "2 Event(s) in Catalog:\n",
      "2014-08-24T10:21:10.840000Z | +38.760, -122.726 | 4.38 md | manual\n",
      "2014-08-24T10:20:44.070000Z | +38.215, -122.312 | 6.02 mw | manual\n"
     ]
    }
   ],
   "source": [
    "largest_magnitude_events = catalog.filter(\"magnitude >= 4.0\")\n",
    "print(largest_magnitude_events)"
   ]
  },
  {
   "cell_type": "markdown",
   "metadata": {},
   "source": [
    "- è possibile ottenere un grafico di base utilizzando il modulo di base matplotlib."
   ]
  },
  {
   "cell_type": "code",
   "execution_count": 9,
   "metadata": {},
   "outputs": [
    {
     "name": "stderr",
     "output_type": "stream",
     "text": [
      "/Users/spina/anaconda2/envs/obspy/lib/python2.7/site-packages/mpl_toolkits/basemap/__init__.py:1708: MatplotlibDeprecationWarning: The axesPatch function was deprecated in version 2.1. Use Axes.patch instead.\n",
      "  limb = ax.axesPatch\n",
      "/Users/spina/anaconda2/envs/obspy/lib/python2.7/site-packages/mpl_toolkits/basemap/__init__.py:1711: MatplotlibDeprecationWarning: The axesPatch function was deprecated in version 2.1. Use Axes.patch instead.\n",
      "  if limb is not ax.axesPatch:\n"
     ]
    },
    {
     "data": {
      "image/png": "[encoded data removed]",
      "text/plain": [
       "<matplotlib.figure.Figure at 0x1154018d0>"
      ]
     },
     "metadata": {},
     "output_type": "display_data"
    }
   ],
   "source": [
    "catalog.plot(projection=\"local\", resolution=\"i\", label=\"magnitude\");"
   ]
  },
  {
   "cell_type": "markdown",
   "metadata": {},
   "source": [
    "- un Catalog (modificato) può essere scritto in un file di output in un numbero differente di formati."
   ]
  },
  {
   "cell_type": "code",
   "execution_count": 10,
   "metadata": {},
   "outputs": [
    {
     "name": "stdout",
     "output_type": "stream",
     "text": [
      "-rw-r--r--  1 spina  wheel  5821 Apr 13 17:11 /tmp/large_events.xml\r\n"
     ]
    }
   ],
   "source": [
    "largest_magnitude_events.write(\"/tmp/large_events.xml\", format=\"QUAKEML\")\n",
    "!ls -l /tmp/large_events.xml"
   ]
  },
  {
   "cell_type": "markdown",
   "metadata": {},
   "source": [
    "- le classi di tipo evento possono essere utilizzate per creare eventi/cataloghi/pick/... da zero in flussi di lavoro di elaborazione personalizzata e per condividerle con altri ricercatori nel formato standard QuakeML"
   ]
  },
  {
   "cell_type": "code",
   "execution_count": null,
   "metadata": {},
   "outputs": [],
   "source": []
  }
 ],
 "metadata": {
  "kernelspec": {
   "display_name": "Python 3",
   "language": "python",
   "name": "python3"
  },
  "language_info": {
   "codemirror_mode": {
    "name": "ipython",
    "version": 3
   },
   "file_extension": ".py",
   "mimetype": "text/x-python",
   "name": "python",
   "nbconvert_exporter": "python",
   "pygments_lexer": "ipython3",
   "version": "3.6.2"
  }
 },
 "nbformat": 4,
 "nbformat_minor": 1
}
