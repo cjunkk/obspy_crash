{
 "cells": [
  {
   "cell_type": "markdown",
   "metadata": {},
   "source": [
    "![](images/obspy_logo_full_524x179px.png)"
   ]
  },
  {
   "cell_type": "markdown",
   "metadata": {},
   "source": [
    "<div style=\"font-size: xx-large ; font-weight: 900 ; color: rgba(0 , 0 , 0 , 0.9) ; line-height: 100%\">Breve guida a ObsPy: il tempo</div>"
   ]
  },
  {
   "cell_type": "markdown",
   "metadata": {},
   "source": [
    "Questa guida trae spunto dal Tutorial di:\n",
    "\n",
    "* Lion Krischer ([@krischer](https://github.com/krischer))\n",
    "* Tobias Megies ([@megies](https://github.com/megies))\n",
    "\n",
    "Seismo-Live: http://seismo-live.org\n",
    "\n",
    "---"
   ]
  },
  {
   "cell_type": "markdown",
   "metadata": {},
   "source": [
    "Breve guida a `UTCDateTime`. Non molto difficile ma importante da conoscere perché è usato **ovunque** in ObsPy!\n",
    "\n",
    "\n",
    "* Tutti i valori assoluti del tempo sono gestiti in modo coerente con questa classe.\n",
    "* Basato su un timestamp intero POSIX con precisione di nanosecondi.\n",
    "* È possibile specificare il fuso orario al momento dell'inizializzazione (se necessario).\n",
    "* In Coordinated Universal Time (UTC) quindi non c'è bisogno di gestire i fusi orari, l'ora legale, ...\n",
    "\n",
    "\n",
    "---"
   ]
  },
  {
   "cell_type": "code",
   "execution_count": 1,
   "metadata": {},
   "outputs": [],
   "source": [
    "%matplotlib inline\n",
    "from __future__ import print_function\n",
    "import matplotlib.pyplot as plt\n",
    "plt.style.use('ggplot')\n",
    "plt.rcParams['figure.figsize'] = 24, 16"
   ]
  },
  {
   "cell_type": "markdown",
   "metadata": {},
   "source": [
    "---\n",
    "\n",
    "## Caratteristiche di **`UTCDateTime`**\n",
    "\n",
    "#### Initializzazione"
   ]
  },
  {
   "cell_type": "code",
   "execution_count": 2,
   "metadata": {
    "scrolled": true
   },
   "outputs": [
    {
     "name": "stdout",
     "output_type": "stream",
     "text": [
      "2014-08-24T10:20:44.000000Z\n",
      "2014-08-24T10:20:44.000000Z\n",
      "2014-08-24T10:20:44.000000Z\n",
      "2014-08-24T10:20:44.000000Z\n"
     ]
    }
   ],
   "source": [
    "from obspy import UTCDateTime\n",
    "\n",
    "print(UTCDateTime(\"2014-08-24T10:20:44.0\"))        # ISO standard\n",
    "print(UTCDateTime(\"2014-08-24T01:20:44.0-09:00\"))  # Imput non-UTC timezone\n",
    "print(UTCDateTime(2014, 8, 24, 10, 20, 44))        # anno, mese, giorno, ora , min, sec, musec\n",
    "print(UTCDateTime(1408875644.0))                   # timestamp"
   ]
  },
  {
   "cell_type": "code",
   "execution_count": 7,
   "metadata": {
    "scrolled": true
   },
   "outputs": [
    {
     "name": "stdout",
     "output_type": "stream",
     "text": [
      "2018-04-17T07:10:30.514580Z\n"
     ]
    }
   ],
   "source": [
    "# Il tempo presente può essere inizializzato senza nessun argomento\n",
    "print(UTCDateTime())"
   ]
  },
  {
   "cell_type": "markdown",
   "metadata": {},
   "source": [
    "#### Accesso agli Attributi"
   ]
  },
  {
   "cell_type": "code",
   "execution_count": 8,
   "metadata": {},
   "outputs": [
    {
     "name": "stdout",
     "output_type": "stream",
     "text": [
      "2014\n",
      "236\n",
      "1408875644.0\n",
      "6\n"
     ]
    }
   ],
   "source": [
    "time = UTCDateTime(\"2014-08-24T10:20:44.0\")\n",
    "print(time.year)\n",
    "print(time.julday)\n",
    "print(time.timestamp)\n",
    "print(time.weekday)\n",
    "# try time.<Tab>"
   ]
  },
  {
   "cell_type": "markdown",
   "metadata": {},
   "source": [
    "#### Gestire le differenze di orario\n",
    "\n",
    "* \"**`+`**/**`-`**\" definito per aggiungere/togliere secondi ad un oggetto **`UTCDateTime`**\n",
    "* \"**`-`**\" definito per ottenere la differenza di tempo tra due oggetti **`UTCDateTime`**"
   ]
  },
  {
   "cell_type": "code",
   "execution_count": 9,
   "metadata": {},
   "outputs": [
    {
     "name": "stdout",
     "output_type": "stream",
     "text": [
      "2014-08-24T10:20:44.000000Z\n"
     ]
    }
   ],
   "source": [
    "time = UTCDateTime(\"2014-08-24T10:20:44.0\")\n",
    "print(time)"
   ]
  },
  {
   "cell_type": "code",
   "execution_count": 11,
   "metadata": {},
   "outputs": [
    {
     "name": "stdout",
     "output_type": "stream",
     "text": [
      "2014-08-24T11:20:44.000000Z\n"
     ]
    }
   ],
   "source": [
    "# un'ora più tardi (attenzione il tempo va espresso in secondi)\n",
    "print(time + 3600)"
   ]
  },
  {
   "cell_type": "code",
   "execution_count": 12,
   "metadata": {},
   "outputs": [
    {
     "name": "stdout",
     "output_type": "stream",
     "text": [
      "11194756.0\n"
     ]
    }
   ],
   "source": [
    "# Differenze di timpo\n",
    "time2 = UTCDateTime(2015, 1, 1)\n",
    "print(time2 - time)"
   ]
  },
  {
   "cell_type": "markdown",
   "metadata": {},
   "source": [
    "### Esercizi\n",
    "\n",
    "#### Calcolare il numero di giorni trascorsi dal terremoto di South Napa del 2014 (24/08/2014 ore 11:20:44)."
   ]
  },
  {
   "cell_type": "code",
   "execution_count": 7,
   "metadata": {},
   "outputs": [
    {
     "name": "stdout",
     "output_type": "stream",
     "text": [
      "1328.07647557\n"
     ]
    }
   ],
   "source": [
    "print((UTCDateTime() - UTCDateTime(\"2014-08-24T11:20:44.000000Z\")) / 86400)"
   ]
  },
  {
   "cell_type": "markdown",
   "metadata": {},
   "source": [
    "#### Scrivere una lista di 10 oggetti UTCDateTime, cominciando da oggi alle 10:00 intervallati ogni 90 minuti."
   ]
  },
  {
   "cell_type": "code",
   "execution_count": 11,
   "metadata": {},
   "outputs": [
    {
     "data": {
      "text/plain": [
       "[2018-04-13T10:00:00.000000Z,\n",
       " 2018-04-13T11:30:00.000000Z,\n",
       " 2018-04-13T13:00:00.000000Z,\n",
       " 2018-04-13T14:30:00.000000Z,\n",
       " 2018-04-13T16:00:00.000000Z,\n",
       " 2018-04-13T17:30:00.000000Z,\n",
       " 2018-04-13T19:00:00.000000Z,\n",
       " 2018-04-13T20:30:00.000000Z,\n",
       " 2018-04-13T22:00:00.000000Z,\n",
       " 2018-04-13T23:30:00.000000Z]"
      ]
     },
     "execution_count": 11,
     "metadata": {},
     "output_type": "execute_result"
    }
   ],
   "source": [
    "time = UTCDateTime(2018,04,13,10,00,00)\n",
    "t = []\n",
    "for i in range(0,10):\n",
    "    t2 = time + i*90*60\n",
    "    t.append(t2)\n",
    "t"
   ]
  },
  {
   "cell_type": "markdown",
   "metadata": {},
   "source": [
    "#### Di seguito è riportata una lista di stringhe con i tempi di origine dei terremoti di magnitudo 8+ dall'anno 2000 (recuperati da IRIS). Costruire una lista di tempi trascorsi (in giorni) tra un evento ed il successivo. Usare matplotlib per visualizzare un istogramma."
   ]
  },
  {
   "cell_type": "code",
   "execution_count": 13,
   "metadata": {},
   "outputs": [],
   "source": [
    "times = [\"2000-11-16T04:54:56\",\n",
    "         \"2001-06-23T20:33:09\",\n",
    "         \"2003-09-25T19:50:07\",\n",
    "         \"2004-12-23T14:59:00\",\n",
    "         \"2004-12-26T00:58:52\",\n",
    "         \"2005-03-28T16:09:35\",\n",
    "         \"2006-05-03T15:26:39\",\n",
    "         \"2006-06-01T18:57:02\",\n",
    "         \"2006-06-05T00:50:31\",\n",
    "         \"2006-11-15T11:14:14\",\n",
    "         \"2007-01-13T04:23:23\",\n",
    "         \"2007-04-01T20:39:56\",\n",
    "         \"2007-08-15T23:40:58\",\n",
    "         \"2007-09-12T11:10:26\",\n",
    "         \"2009-09-29T17:48:11\",\n",
    "         \"2010-02-27T06:34:13\",\n",
    "         \"2011-03-11T05:46:23\",\n",
    "         \"2012-04-11T08:38:37\",\n",
    "         \"2012-04-11T10:43:10\",\n",
    "         \"2013-05-24T05:44:49\",\n",
    "         \"2014-04-01T23:46:47\",\n",
    "         \"2015-09-16T22:54:32\",\n",
    "         \"2017-09-08T04:49:21\"]"
   ]
  },
  {
   "cell_type": "code",
   "execution_count": 26,
   "metadata": {},
   "outputs": [
    {
     "data": {
      "image/png": "[encoded data removed]",
      "text/plain": [
       "<matplotlib.figure.Figure at 0x11bd61e50>"
      ]
     },
     "metadata": {},
     "output_type": "display_data"
    }
   ],
   "source": [
    "import matplotlib.pyplot as plt\n",
    "\n",
    "inter_event_times = []\n",
    "\n",
    "for i in range(1, len(times)):\n",
    "    dt = UTCDateTime(times[i]) - UTCDateTime(times[i-1])\n",
    "    dt = dt / (3600 * 24)\n",
    "    inter_event_times.append(dt)\n",
    "#    print(dt)\n",
    "#print(max(inter_event_times))  \n",
    "\n",
    "plt.hist(inter_event_times, bins=range(0, 1000, 100))\n",
    "plt.xlabel(\"Tempo intercorso tra eventi di Magnitude 8+ a partire dall'anno 2000 [giorni]\")\n",
    "plt.ylabel(\"Numero di intervalli\")\n",
    "plt.show()"
   ]
  },
  {
   "cell_type": "code",
   "execution_count": null,
   "metadata": {},
   "outputs": [],
   "source": []
  }
 ],
 "metadata": {
  "kernelspec": {
   "display_name": "Python 3",
   "language": "python",
   "name": "python3"
  },
  "language_info": {
   "codemirror_mode": {
    "name": "ipython",
    "version": 3
   },
   "file_extension": ".py",
   "mimetype": "text/x-python",
   "name": "python",
   "nbconvert_exporter": "python",
   "pygments_lexer": "ipython3",
   "version": "3.6.2"
  }
 },
 "nbformat": 4,
 "nbformat_minor": 1
}
