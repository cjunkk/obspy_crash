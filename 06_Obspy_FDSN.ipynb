{
 "cells": [
  {
   "cell_type": "markdown",
   "metadata": {},
   "source": [
    "![](images/obspy_logo_full_524x179px.png)"
   ]
  },
  {
   "cell_type": "markdown",
   "metadata": {},
   "source": [
    "<div style=\"font-size: xx-large ; font-weight: 900 ; color: rgba(0 , 0 , 0 , 0.9) ; line-height: 100%\">ObsPy: scaricare i dati di un terremoto</div>\n",
    "\n",
    "---"
   ]
  },
  {
   "cell_type": "code",
   "execution_count": null,
   "metadata": {},
   "outputs": [],
   "source": [
    "%matplotlib inline\n",
    "from __future__ import print_function\n",
    "import matplotlib.pyplot as plt\n",
    "plt.style.use('ggplot')\n",
    "plt.rcParams['figure.figsize'] = 12, 8"
   ]
  },
  {
   "cell_type": "markdown",
   "metadata": {},
   "source": [
    "ObsPy ha clients per accedere direttamente ai dati via...\n",
    "\n",
    "- FDSN webservices (IRIS, Geofon/GFZ, USGS, NCEDC, SeisComp3 instances, ...)\n",
    "- ArcLink (EIDA, ...)\n",
    "- Earthworm\n",
    "- SeedLink (near-realtime servers)\n",
    "- NERIES/NERA/seismicportal.eu\n",
    "- NEIC\n",
    "- SeisHub (local seismological database)\n",
    "\n",
    "Questa introduzione mostra come usare il client webservice FDSN. Il webservice FDSN è per adesso il default webservice implementato da molti data centers in tutto il mondo. Clients per altri protocolli lavorano in maniera simile al client FDSN. In questa esercitazione utilizzeremo il FDSN dell'INGV.\n",
    "\n",
    "#### Dati di forme d'onda\n",
    "\n",
    "Per questo esempio scegliamo un terremoto avvenuto a Sestola, nell'Appennino Modenese, il 6 Novembre 2017 alle 05:55:53 ora italiana."
   ]
  },
  {
   "cell_type": "code",
   "execution_count": null,
   "metadata": {},
   "outputs": [],
   "source": [
    "import obspy\n",
    "from obspy.clients.fdsn import Client\n",
    "\n",
    "client = Client(\"INGV\")\n",
    "t = obspy.UTCDateTime(\"2017-11-06T04:55:53.0\")  #Terremoto di Sestola\n",
    "st = client.get_waveforms(\"IV\", \"ZCCA\", \"\", \"HHZ\",\n",
    "                          t - 10, t + 60)\n",
    "print(st)\n",
    "st.plot()"
   ]
  },
  {
   "cell_type": "markdown",
   "metadata": {},
   "source": [
    "- di nuovo, i dati delle forma d'onda vengono restitutito come oggetti stream\n",
    "- per tutti i flussi di lavoro di elaborazione personalizzati, non importa se i dati provengono da un file locale o da un servizio Web\n",
    "\n",
    "\n",
    "#### Metadati degli eventi \n",
    "\n",
    "Il client FDSN può essere usato per richiedere metadati degli eventi: "
   ]
  },
  {
   "cell_type": "code",
   "execution_count": null,
   "metadata": {},
   "outputs": [],
   "source": [
    "t = obspy.UTCDateTime(\"2017-11-06T04:55:53.0\") #Terremoto di Sestola\n",
    "catalog = client.get_events(starttime=t - 10 , endtime=t + 10,\n",
    "                            minmagnitude=2)\n",
    "print(catalog)\n",
    "catalog.plot(projection='local');"
   ]
  },
  {
   "cell_type": "markdown",
   "metadata": {},
   "source": [
    "Le richieste possono avere una vasta gamma di vincoli (vedi [ObsPy Documentation](http://docs.obspy.org/packages/autogen/obspy.clients.fdsn.client.Client.get_events.html)):\n",
    "\n",
    "- intervallo di tempo\n",
    "- intervallo geografico (lonlat-box, cerchio con distanza)\n",
    "- intervallo di profondità\n",
    "- intervallo di magnitudo, tipo\n",
    "- agenzia contributiva"
   ]
  },
  {
   "cell_type": "markdown",
   "metadata": {},
   "source": [
    "#### Metadati delle stationi\n",
    "\n",
    "Infine, il client FDSN può essere utilizzato per richiedere i metadati della stazione. Le stazioni possono essere consultate utilizzando una vasta gamma di vincoli (vedi [ObsPy documentation](http://docs.obspy.org/packages/autogen/obspy.clients.fdsn.client.Client.get_stations.html)):\n",
    "\n",
    " * codice network/station\n",
    " * intervallo di tempo di funzionamento\n",
    " * geografico (lonlat-box, circolare per distanza)"
   ]
  },
  {
   "cell_type": "code",
   "execution_count": null,
   "metadata": {},
   "outputs": [],
   "source": [
    "event = catalog[0]\n",
    "origin = event.origins[0]\n",
    "\n",
    "\n",
    "lon = origin.longitude\n",
    "lat = origin.latitude\n",
    "\n",
    "# Get currently active stations in 5 km radius around Livermore.\n",
    "inventory = client.get_stations(longitude=lon, latitude=lat,\n",
    "                                maxradius=50.0/111, level=\"channel\", \n",
    "                                starttime=obspy.UTCDateTime())\n",
    "print(inventory)\n",
    "inventory.plot(projection=\"local\", resolution=\"i\");"
   ]
  },
  {
   "cell_type": "markdown",
   "metadata": {},
   "source": [
    "La parola-chiave **`level=...`** è usata per specificare il livello di dettaglio nell'inventario richiesto\n",
    "\n",
    "- `\"network\"`: restituisce solo informazioni sulle reti che corrispondono ai criteri\n",
    "- `\"station\"`: restituisce informazioni su tutte le stazioni corrispondenti\n",
    "- `\"channel\"`: restituisce le informazioni sui canali disponibili in tutte le reti di stazioni che soddisfano i criteri\n",
    "- `\"response\"`: include la risposta dello strumento per tutti i canali corrispondenti (grande dimensione dei dati dei risultati!)"
   ]
  },
  {
   "cell_type": "code",
   "execution_count": null,
   "metadata": {},
   "outputs": [],
   "source": [
    "inventory = client.get_stations(network=\"IV\", station=\"ERBM\",\n",
    "                                level=\"station\")\n",
    "print(inventory)"
   ]
  },
  {
   "cell_type": "code",
   "execution_count": null,
   "metadata": {},
   "outputs": [],
   "source": [
    "inventory = client.get_stations(network=\"IV\", station=\"ERBM\",\n",
    "                                level=\"channel\")\n",
    "print(inventory)"
   ]
  },
  {
   "cell_type": "markdown",
   "metadata": {},
   "source": [
    "Per le richieste di forme d'onda che includono la correzione dello strumento, è necessario scaricare anche le informazioni di risposta dello strumento appropriate."
   ]
  },
  {
   "cell_type": "code",
   "execution_count": null,
   "metadata": {},
   "outputs": [],
   "source": [
    "t = obspy.UTCDateTime(\"2017-11-06T04:55:53.0\")\n",
    "st = client.get_waveforms(\"IV\", \"ZCCA\", \"\", \"HHZ\", t - 10, t + 60)\n",
    "inv = client.get_stations(network=\"IV\", station=\"ZCCA\", location=\"\", channel=\"HHZ\",\n",
    "                          level=\"response\", starttime=t - 10, endtime=t + 10)\n",
    "st.plot()\n",
    "\n",
    "st.remove_response(inventory=inv)\n",
    "st.plot()"
   ]
  },
  {
   "cell_type": "markdown",
   "metadata": {},
   "source": [
    "\n",
    "### Esercizio: calcolo della magnitudo per il terremoto di Sestola\n",
    "\n",
    "Applichiamo quanto imparato nell'esempio calcolando la magnitudo locale del terremoto di Sestola"
   ]
  },
  {
   "cell_type": "code",
   "execution_count": null,
   "metadata": {},
   "outputs": [],
   "source": [
    "#tempo origine del terremoto\n",
    "t = obspy.UTCDateTime(\"2017-11-06T04:55:53.0\")"
   ]
  },
  {
   "cell_type": "code",
   "execution_count": null,
   "metadata": {},
   "outputs": [],
   "source": [
    "#creiamo il catalogo con l'evento\n",
    "catalog = client.get_events(starttime=t - 10 , endtime=t + 10,\n",
    "                            minmagnitude=2)"
   ]
  },
  {
   "cell_type": "code",
   "execution_count": null,
   "metadata": {},
   "outputs": [],
   "source": [
    "#creiamo una lista di stazioni vicine\n",
    "# Get currently active stations in 5 km radius around Livermore.\n",
    "inventory = client.get_stations(longitude=lon, latitude=lat,\n",
    "                                maxradius=50.0/111, level=\"response\", \n",
    "                                starttime=obspy.UTCDateTime())"
   ]
  },
  {
   "cell_type": "code",
   "execution_count": null,
   "metadata": {},
   "outputs": [],
   "source": [
    "from obspy import Stream\n",
    "st = Stream()\n",
    "\n",
    "for network in inventory:\n",
    "    for station in network:\n",
    "        try:\n",
    "            st += client.get_waveforms(network.code, station.code, \"*\", \"HHE\",\n",
    "                                       t - 5 , t + 30)\n",
    "        except:\n",
    "            pass\n",
    "\n",
    "print(st)\n",
    "st.plot()"
   ]
  },
  {
   "cell_type": "code",
   "execution_count": null,
   "metadata": {},
   "outputs": [],
   "source": [
    "st.detrend('demean')\n",
    "st.detrend('linear')\n",
    "st.remove_response(inventory=inventory, water_level=20,output='DISP')\n",
    "st.plot()"
   ]
  },
  {
   "cell_type": "code",
   "execution_count": null,
   "metadata": {},
   "outputs": [],
   "source": [
    "for t in st:\n",
    "    print(t.id,t.max())"
   ]
  },
  {
   "cell_type": "code",
   "execution_count": null,
   "metadata": {},
   "outputs": [],
   "source": [
    "# per rimuovere una traccia si può fare nel modo seguente:\n",
    "#for t in st.select(station='POPM'):\n",
    "#    st.remove(t)"
   ]
  },
  {
   "cell_type": "code",
   "execution_count": null,
   "metadata": {},
   "outputs": [],
   "source": [
    "for t in st:\n",
    "    print(t.id,t.max())"
   ]
  },
  {
   "cell_type": "code",
   "execution_count": null,
   "metadata": {},
   "outputs": [],
   "source": [
    "from math import log10\n",
    "from obspy.geodetics import gps2dist_azimuth"
   ]
  },
  {
   "cell_type": "code",
   "execution_count": null,
   "metadata": {},
   "outputs": [],
   "source": [
    "event = catalog[0]\n",
    "origin = event.origins[0]\n",
    "elon = origin.longitude\n",
    "elat = origin.latitude\n"
   ]
  },
  {
   "cell_type": "code",
   "execution_count": null,
   "metadata": {},
   "outputs": [],
   "source": [
    "# troviamo le coordinate di una stazione\n",
    "staz=st[0].id\n",
    "print(staz)\n",
    "coords = inventory.get_coordinates(staz)\n",
    "print(coords)"
   ]
  },
  {
   "cell_type": "code",
   "execution_count": null,
   "metadata": {},
   "outputs": [],
   "source": [
    "# calcoliamo la distanza dall'evento con gps2dist_azimuth(lat1,lon1,lat2,lon2)\n",
    "\n",
    "dist,az,baz = gps2dist_azimuth(elat,elon,coords['latitude'],coords['longitude'])"
   ]
  },
  {
   "cell_type": "code",
   "execution_count": null,
   "metadata": {},
   "outputs": [],
   "source": [
    "# per esprimere la distanza in km occorre dividere per 1000\n",
    "dist/1000"
   ]
  },
  {
   "cell_type": "markdown",
   "metadata": {},
   "source": [
    "# Formula per il calcolo della magnitudo:\n",
    "\n",
    "# ML = log(AMP) +1.11 * log(DIST) + 0.00189 * DIST + 3.591\n",
    "\n",
    "## AMP è lo spostamento massimo espresso in mm\n",
    "## DIST è la distanza stazione - ipocentro espressa in km\n",
    "\n"
   ]
  },
  {
   "cell_type": "code",
   "execution_count": null,
   "metadata": {},
   "outputs": [],
   "source": [
    "amag = 0.0\n",
    "for t in st:\n",
    "    coords = coords = inventory.get_coordinates(t.id)\n",
    "    DIST,az,baz = gps2dist_azimuth(elat,elon,coords['latitude'],coords['longitude'])\n",
    "    DIST = DIST/1000\n",
    "    AMP = abs(t.max()*1000)\n",
    "    MAG = log10(AMP) +1.11 * log10(DIST) + 0.00189 * DIST + 3.591\n",
    "    print('ML alla stazione',t.id,' = ','{:4.2f}'.format(MAG))\n",
    "    amag += MAG   \n",
    "    "
   ]
  },
  {
   "cell_type": "code",
   "execution_count": null,
   "metadata": {},
   "outputs": [],
   "source": [
    "print ('Media della ML = ','{:4.2f}'.format(amag/len(st)), ' calcolata su ',len(st),' tracce')"
   ]
  },
  {
   "cell_type": "code",
   "execution_count": null,
   "metadata": {},
   "outputs": [],
   "source": []
  },
  {
   "cell_type": "code",
   "execution_count": null,
   "metadata": {},
   "outputs": [],
   "source": []
  },
  {
   "cell_type": "markdown",
   "metadata": {},
   "source": [
    "#### Esercizio con Client FDSN\n",
    "\n",
    "Usare il client FDSN per assemblare un piccolo dataset di forme d'onda per un evento.\n",
    "\n",
    "- cercare un grande terremoto (e.g. per profondità o in una regione a scelta, utilizzare l'opzione **`limit = 5`** per mantenere basso il traffico di rete)"
   ]
  },
  {
   "cell_type": "code",
   "execution_count": null,
   "metadata": {},
   "outputs": [],
   "source": [
    "from obspy.clients.fdsn import Client\n",
    "\n",
    "client = Client(\"IRIS\")\n",
    "catalog = client.get_events(minmagnitude=8, limit=5)\n",
    "print(catalog)\n",
    "catalog.plot()\n",
    "event = catalog[0]\n",
    "print(event)"
   ]
  },
  {
   "cell_type": "markdown",
   "metadata": {},
   "source": [
    "- cerca le stazioni per vedere le forme d'onda per l'evento. Le stazioni dovrebbero ..\n",
    "     * essere disponibili al momento dell'evento\n",
    "     * usare uno stream verticale di 1 Hz (\"LHZ\", per non sovraccaricare la nostra rete ..)\n",
    "     * essere a distanza angolare ravvicinata attorno all'evento (ad esempio 90-91 gradi)\n",
    "     * regolare la ricerca in modo che solo un numero limitato di stazioni (ad esempio 3-6) corrisponda ai criteri di ricerca\n",
    "     * Una volta che hai trovato un buon set di stazioni, usa `level=\"response\"` poiché avrai bisogno della risposta più tardi."
   ]
  },
  {
   "cell_type": "code",
   "execution_count": null,
   "metadata": {},
   "outputs": [],
   "source": [
    "origin = event.origins[0]\n",
    "t = origin.time\n",
    "\n",
    "inventory = client.get_stations(longitude=origin.longitude, latitude=origin.latitude,\n",
    "                                minradius=101, maxradius=103,\n",
    "                                starttime=t, endtime =t+100,\n",
    "                                channel=\"LHZ\", level=\"response\",\n",
    "                                matchtimeseries=True)\n",
    "print(inventory)"
   ]
  },
  {
   "cell_type": "markdown",
   "metadata": {},
   "source": [
    "- per ognuna di queste stazioni scaricare i dati dell'evento, ad es. da un paio di minuti prima a mezz'ora dopo l'evento\n",
    "- metti tutti i dati insieme in uno stream (metti la chiamata `get_waveforms()` in un blocco try/except/pass per saltare silenziosamente le stazioni che in realtà non hanno dati disponibili)\n",
    "- stampa le informazioni di stream, plotta i dati grezzi"
   ]
  },
  {
   "cell_type": "code",
   "execution_count": null,
   "metadata": {},
   "outputs": [],
   "source": [
    "from obspy import Stream\n",
    "st = Stream()\n",
    "\n",
    "for network in inventory:\n",
    "    for station in network:\n",
    "        try:\n",
    "            st += client.get_waveforms(network.code, station.code, \"*\", \"LHZ\",\n",
    "                                       t - 5 * 60, t + 30 * 60)\n",
    "        except:\n",
    "            pass\n",
    "\n",
    "print(st)\n",
    "st.plot()"
   ]
  },
  {
   "cell_type": "markdown",
   "metadata": {},
   "source": [
    "- correggi la risposta dello strumento per tutte le stazioni e traccia i dati corretti"
   ]
  },
  {
   "cell_type": "code",
   "execution_count": null,
   "metadata": {},
   "outputs": [],
   "source": [
    "st.remove_response(inventory=inventory, water_level=20)\n",
    "st.plot()"
   ]
  },
  {
   "cell_type": "markdown",
   "metadata": {},
   "source": [
    "Se hai tempo, assembla e plotta un altro set di dati simile"
   ]
  },
  {
   "cell_type": "code",
   "execution_count": null,
   "metadata": {},
   "outputs": [],
   "source": []
  }
 ],
 "metadata": {
  "kernelspec": {
   "display_name": "Python 3",
   "language": "python",
   "name": "python3"
  },
  "language_info": {
   "codemirror_mode": {
    "name": "ipython",
    "version": 3
   },
   "file_extension": ".py",
   "mimetype": "text/x-python",
   "name": "python",
   "nbconvert_exporter": "python",
   "pygments_lexer": "ipython3",
   "version": "3.6.2"
  }
 },
 "nbformat": 4,
 "nbformat_minor": 1
}
